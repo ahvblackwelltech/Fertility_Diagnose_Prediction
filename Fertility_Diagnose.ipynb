{
  "nbformat": 4,
  "nbformat_minor": 0,
  "metadata": {
    "colab": {
      "name": "Fertility_Diagnose.ipynb",
      "provenance": [],
      "authorship_tag": "ABX9TyMzaDs/CeWaJv/FJAwdzPtx",
      "include_colab_link": true
    },
    "kernelspec": {
      "name": "python3",
      "display_name": "Python 3"
    }
  },
  "cells": [
    {
      "cell_type": "markdown",
      "metadata": {
        "id": "view-in-github",
        "colab_type": "text"
      },
      "source": [
        "<a href=\"https://colab.research.google.com/github/ahvblackwelltech/Fertility_Diagnose_Prediction/blob/master/Fertility_Diagnose.ipynb\" target=\"_parent\"><img src=\"https://colab.research.google.com/assets/colab-badge.svg\" alt=\"Open In Colab\"/></a>"
      ]
    },
    {
      "cell_type": "markdown",
      "metadata": {
        "id": "hkoAYouBeRaC",
        "colab_type": "text"
      },
      "source": [
        "# Fertility Data Set"
      ]
    },
    {
      "cell_type": "markdown",
      "metadata": {
        "id": "5aKbcBsmeXrn",
        "colab_type": "text"
      },
      "source": [
        "**100 volunteers provide a semen sample analyzed according to the WHO 2010 criteria. Sperm concentration are related to socio-demographic data, environmental factors, health status, and life habits**"
      ]
    },
    {
      "cell_type": "code",
      "metadata": {
        "id": "x_bEdcrveQEs",
        "colab_type": "code",
        "colab": {}
      },
      "source": [
        "### Import Libraries\n",
        "import pandas as pd\n",
        "import numpy as np\n",
        "import matplotlib.pyplot as plt\n",
        "%matplotlib inline\n",
        "import seaborn as sns"
      ],
      "execution_count": 0,
      "outputs": []
    },
    {
      "cell_type": "code",
      "metadata": {
        "id": "JFIv-9mve35e",
        "colab_type": "code",
        "colab": {}
      },
      "source": [
        "df1 = pd.read_csv()"
      ],
      "execution_count": 0,
      "outputs": []
    }
  ]
}